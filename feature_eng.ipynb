{
 "cells": [
  {
   "cell_type": "code",
   "execution_count": 1,
   "metadata": {},
   "outputs": [],
   "source": [
    "import warnings\n",
    "warnings.filterwarnings('ignore')\n",
    "\n",
    "import pathlib\n",
    "import importlib\n",
    "import re\n",
    "\n",
    "import pandas as pd\n",
    "import numpy as np\n",
    "import feather\n",
    "import seaborn as sns\n",
    "import matplotlib.pyplot as plt\n",
    "from typing import List, Tuple\n",
    "from scipy import stats\n",
    "import dexplot as dxp\n",
    "import scipy.stats as ss\n",
    "\n",
    "from sklearn.preprocessing import RobustScaler, StandardScaler\n",
    "from sklearn.preprocessing import LabelEncoder\n",
    "from sklearn.metrics import classification_report, accuracy_score, confusion_matrix\n",
    "from sklearn.metrics import f1_score, roc_curve, auc, roc_auc_score\n",
    "from scikitplot.metrics import plot_confusion_matrix\n",
    "from scikitplot.metrics import plot_roc\n",
    "from sklearn.model_selection import GridSearchCV\n",
    "from sklearn import tree\n"
   ]
  },
  {
   "cell_type": "code",
   "execution_count": 2,
   "metadata": {},
   "outputs": [],
   "source": [
    "DATA_PATH = pathlib.Path('./data')\n",
    "RESULTS_PATH = pathlib.Path('./results')"
   ]
  },
  {
   "cell_type": "code",
   "execution_count": 3,
   "metadata": {},
   "outputs": [],
   "source": [
    "df = pd.read_csv(DATA_PATH / 'accepted_2007_to_2018Q4.csv')"
   ]
  },
  {
   "cell_type": "code",
   "execution_count": 4,
   "metadata": {},
   "outputs": [],
   "source": [
    "keep_list = ['addr_state', 'annual_inc', 'application_type', \n",
    "             'dti', 'earliest_cr_line', 'emp_length', 'fico_range_high', 'fico_range_low', \n",
    "             'grade', 'home_ownership', 'initial_list_status', \n",
    "             'installment', 'int_rate', 'issue_d', 'loan_amnt', \n",
    "             'mort_acc', 'open_acc', 'pub_rec', 'pub_rec_bankruptcies', \n",
    "             'purpose', 'revol_bal', 'revol_util', 'sub_grade', 'term', \n",
    "             'title', 'total_acc', 'verification_status', 'loan_status']\n",
    "keep_list.sort()\n",
    "df = df[keep_list]"
   ]
  },
  {
   "cell_type": "code",
   "execution_count": 5,
   "metadata": {},
   "outputs": [],
   "source": [
    "df = df[df['loan_status'].isin(['Fully Paid', 'Charged Off'])]"
   ]
  },
  {
   "cell_type": "code",
   "execution_count": 6,
   "metadata": {},
   "outputs": [],
   "source": [
    "df['target'] = 1\n",
    "df['target'] = (df['target'].where(df['loan_status'] == 'Charged Off', 0))\n",
    "df = df.drop('loan_status', axis=1)"
   ]
  },
  {
   "cell_type": "code",
   "execution_count": 7,
   "metadata": {},
   "outputs": [
    {
     "data": {
      "text/plain": [
       "0    0.800374\n",
       "1    0.199626\n",
       "Name: target, dtype: float64"
      ]
     },
     "execution_count": 7,
     "metadata": {},
     "output_type": "execute_result"
    }
   ],
   "source": [
    "# Reminding ourselves of the data imbalance ratio\n",
    "df['target'].value_counts()/df['target'].count()"
   ]
  },
  {
   "cell_type": "code",
   "execution_count": 8,
   "metadata": {},
   "outputs": [],
   "source": [
    "num_cols = df.select_dtypes(include=['float64', 'int64']).columns"
   ]
  },
  {
   "cell_type": "code",
   "execution_count": 9,
   "metadata": {},
   "outputs": [],
   "source": [
    "dates_cols = ['earliest_cr_line', 'issue_d']\n",
    "for c in dates_cols:\n",
    "    df[c] = pd.to_datetime(df[c], format='%b-%Y')"
   ]
  },
  {
   "cell_type": "code",
   "execution_count": 10,
   "metadata": {},
   "outputs": [],
   "source": [
    "cat_cols = df.select_dtypes('object').columns"
   ]
  },
  {
   "cell_type": "markdown",
   "metadata": {},
   "source": [
    "# Preprocessing"
   ]
  },
  {
   "cell_type": "markdown",
   "metadata": {},
   "source": [
    "Let's start with some preprocessing now that we have some understanding of the data.\n",
    "\n",
    "We need to start filling the missing values.\n",
    "\n",
    "For numerical columns, for simplicity, we are going to fill missing values with the median.\n",
    "For categorical columns, a simple approach would be to fill the missing values with the most common observation.\n",
    "\n",
    "Keep in mind that these approaches are just to keep things simple. If one thinks that more time should be spent on preprocessing, they could go with fancier methods, including:\n",
    "- using other ML models to come up with values for the missing \n",
    "\n",
    "When filling the missing values, it is important that we calculate this value using the training set only, and then use the same value for the test set\n",
    "so as to avoid data leakage from the training set to the test set."
   ]
  },
  {
   "cell_type": "code",
   "execution_count": 11,
   "metadata": {},
   "outputs": [],
   "source": [
    "years = [2013, 2014, 2015, 2016]\n",
    "train_years = years[0:3]\n",
    "test_years = years[3:]\n",
    "train_df = df[df['issue_d'].dt.year.isin(train_years)]\n",
    "test_df = df[df['issue_d'].dt.year.isin(test_years)]"
   ]
  },
  {
   "cell_type": "markdown",
   "metadata": {},
   "source": [
    "# Filling Missing Values"
   ]
  },
  {
   "cell_type": "code",
   "execution_count": 12,
   "metadata": {},
   "outputs": [
    {
     "name": "stdout",
     "output_type": "stream",
     "text": [
      "Missing Percentage\n",
      "dti \n",
      "0.027800283949417803\n",
      "float64\n",
      "emp_length \n",
      "5.835903992388367\n",
      "object\n",
      "mort_acc \n",
      "3.5145059503014124\n",
      "float64\n",
      "pub_rec_bankruptcies \n",
      "0.05180962008756751\n",
      "float64\n",
      "revol_util \n",
      "0.0637027896915896\n",
      "float64\n",
      "title \n",
      "1.23830195270979\n",
      "object\n"
     ]
    }
   ],
   "source": [
    "print(\"Missing Percentage\")\n",
    "for col in df.columns:\n",
    "    missing_percentage = 100 - 100*df[col].count()/len(df)\n",
    "    if missing_percentage > 0:\n",
    "        print(col + \" \" + str())\n",
    "        print(missing_percentage)\n",
    "        print(df[col].dtype)"
   ]
  },
  {
   "cell_type": "markdown",
   "metadata": {},
   "source": [
    "A simple approach for numerical features: Fill with the median\n",
    "\n",
    "For categorical features we can fill with the most frequent values"
   ]
  },
  {
   "cell_type": "code",
   "execution_count": 13,
   "metadata": {},
   "outputs": [],
   "source": [
    "def preprocessing(df, num_cols, cat_cols):\n",
    "\n",
    "    for col in num_cols:\n",
    "        median = df[col].median()\n",
    "        df[col] = df[col].fillna(median)\n",
    "\n",
    "    for col in cat_cols:\n",
    "        most_common = df[col].mode()[0]\n",
    "        df[col] = df[col].fillna(most_common)\n",
    "    \n",
    "    return df\n",
    "\n",
    "# Remark: the training and test medians might not be exactly the same, so the values filled would be different\n",
    "# This also applies to the most common observation, which may be different in the test set"
   ]
  },
  {
   "cell_type": "code",
   "execution_count": 14,
   "metadata": {},
   "outputs": [],
   "source": [
    "LABEL_ENCODERS = {}\n",
    "SCALER = RobustScaler()"
   ]
  },
  {
   "cell_type": "markdown",
   "metadata": {},
   "source": []
  },
  {
   "cell_type": "code",
   "execution_count": 15,
   "metadata": {},
   "outputs": [],
   "source": [
    "def feature_engineering(df, num_cols, cat_cols, log_cols=None, is_train=True):\n",
    "    ''' This function will be used to take the log of our features, scale our features, encodings, etc.'''\n",
    "\n",
    "    # taking the log of features in log_cols\n",
    "    # a problem is that at least one feature has neg values, so we are going to drop those rows\n",
    "    df = df[df['dti'] > -1]\n",
    "\n",
    "    if log_cols:\n",
    "        for col in log_cols:\n",
    "            df[col] = np.log1p(df[col])\n",
    "    \n",
    "    # not every model requires feature scaling but some do\n",
    "    # let's scale the numerical features with robustscaler\n",
    "    scaler = StandardScaler()\n",
    "    if is_train:\n",
    "        df[num_cols] = SCALER.fit_transform(df[num_cols])\n",
    "    else:\n",
    "        df[num_cols] = SCALER.transform(df[num_cols])\n",
    "\n",
    "\n",
    "    # some feature engineering specific to a variable\n",
    "    # df['emp_length'] = df['emp_length'].apply(lambda x: '0' if x is '< 1 year' else x)\n",
    "    df['emp_length'] = df['emp_length'].str.replace('[^0-9]+', '')\n",
    "\n",
    "    cat_cols = list(cat_cols)\n",
    "    cat_cols.remove('emp_length')\n",
    "\n",
    "    for col in cat_cols:\n",
    "        encoder = LabelEncoder()\n",
    "        print(col)\n",
    "        if is_train:\n",
    "            df[col] = encoder.fit_transform(df[col])\n",
    "            LABEL_ENCODERS[col] = encoder\n",
    "        else:\n",
    "            df[col] =LABEL_ENCODERS[col].transform(df[col])\n",
    "\n",
    "    return df"
   ]
  },
  {
   "cell_type": "code",
   "execution_count": 16,
   "metadata": {},
   "outputs": [],
   "source": [
    "log_cols = [\n",
    "    'annual_inc',\n",
    "    'dti',\n",
    "    'installment',\n",
    "    'int_rate',\n",
    "    'loan_amnt',\n",
    "    'open_acc',\n",
    "    'revol_bal',\n",
    "    'revol_util',\n",
    "    'total_acc'\n",
    "]"
   ]
  },
  {
   "cell_type": "code",
   "execution_count": 17,
   "metadata": {},
   "outputs": [],
   "source": [
    "train_df = preprocessing(train_df, num_cols, cat_cols)"
   ]
  },
  {
   "cell_type": "code",
   "execution_count": 18,
   "metadata": {},
   "outputs": [
    {
     "name": "stdout",
     "output_type": "stream",
     "text": [
      "addr_state\n",
      "application_type\n",
      "grade\n",
      "home_ownership\n",
      "initial_list_status\n",
      "purpose\n",
      "sub_grade\n",
      "term\n",
      "title\n",
      "verification_status\n"
     ]
    }
   ],
   "source": [
    "train_df2 = feature_engineering(train_df, num_cols, cat_cols, log_cols, is_train=True)"
   ]
  },
  {
   "cell_type": "code",
   "execution_count": 19,
   "metadata": {},
   "outputs": [],
   "source": [
    "test_df = preprocessing(test_df, num_cols, cat_cols)"
   ]
  },
  {
   "cell_type": "code",
   "execution_count": 20,
   "metadata": {},
   "outputs": [
    {
     "name": "stdout",
     "output_type": "stream",
     "text": [
      "addr_state\n",
      "application_type\n",
      "grade\n",
      "home_ownership\n",
      "initial_list_status\n",
      "purpose\n",
      "sub_grade\n",
      "term\n",
      "title\n",
      "verification_status\n"
     ]
    }
   ],
   "source": [
    "test_df2 = feature_engineering(test_df, num_cols, cat_cols, log_cols, is_train=False)"
   ]
  },
  {
   "cell_type": "code",
   "execution_count": 21,
   "metadata": {},
   "outputs": [
    {
     "data": {
      "text/plain": [
       "Index(['addr_state', 'annual_inc', 'application_type', 'dti',\n",
       "       'earliest_cr_line', 'emp_length', 'fico_range_high', 'fico_range_low',\n",
       "       'grade', 'home_ownership', 'initial_list_status', 'installment',\n",
       "       'int_rate', 'issue_d', 'loan_amnt', 'mort_acc', 'open_acc', 'pub_rec',\n",
       "       'pub_rec_bankruptcies', 'purpose', 'revol_bal', 'revol_util',\n",
       "       'sub_grade', 'term', 'title', 'total_acc', 'verification_status',\n",
       "       'target'],\n",
       "      dtype='object')"
      ]
     },
     "execution_count": 21,
     "metadata": {},
     "output_type": "execute_result"
    }
   ],
   "source": [
    "train_df2.columns"
   ]
  },
  {
   "cell_type": "code",
   "execution_count": 22,
   "metadata": {},
   "outputs": [],
   "source": [
    "cols = ['addr_state', 'annual_inc', 'application_type', 'dti',\n",
    "       'emp_length', 'fico_range_high', 'grade', 'home_ownership', 'initial_list_status',\n",
    "       'installment', 'int_rate', 'mort_acc',\n",
    "       'open_acc', 'pub_rec', 'pub_rec_bankruptcies', 'purpose', 'revol_bal',\n",
    "       'revol_util', 'sub_grade', 'term', 'title', 'total_acc',\n",
    "       'verification_status']"
   ]
  },
  {
   "cell_type": "code",
   "execution_count": 23,
   "metadata": {},
   "outputs": [],
   "source": [
    "X_train = train_df2[cols]\n",
    "y_train = train_df2['target']"
   ]
  },
  {
   "cell_type": "code",
   "execution_count": 24,
   "metadata": {},
   "outputs": [],
   "source": [
    "X_test = test_df2[cols]\n",
    "y_test = test_df2['target']"
   ]
  },
  {
   "cell_type": "code",
   "execution_count": 29,
   "metadata": {},
   "outputs": [],
   "source": [
    "# Save datasets for modelling\n",
    "feather.write_dataframe(X_train, DATA_PATH / 'X_train')\n",
    "feather.write_dataframe(pd.DataFrame(y_train), DATA_PATH / 'y_train')\n",
    "feather.write_dataframe(X_test, DATA_PATH / 'X_test')\n",
    "feather.write_dataframe(pd.DataFrame(y_test), DATA_PATH / 'y_test')"
   ]
  },
  {
   "cell_type": "code",
   "execution_count": null,
   "metadata": {},
   "outputs": [],
   "source": []
  },
  {
   "cell_type": "markdown",
   "metadata": {},
   "source": [
    "# Training a decision tree model\n",
    "### !!! TODO Split to another notebook (call it model_pt1.ipynb) "
   ]
  },
  {
   "cell_type": "code",
   "execution_count": 31,
   "metadata": {},
   "outputs": [],
   "source": [
    "from sklearn.tree import DecisionTreeClassifier"
   ]
  },
  {
   "cell_type": "code",
   "execution_count": 32,
   "metadata": {},
   "outputs": [],
   "source": [
    "DecisionTreeClassifier?"
   ]
  },
  {
   "cell_type": "code",
   "execution_count": 33,
   "metadata": {},
   "outputs": [],
   "source": [
    "dt = DecisionTreeClassifier()"
   ]
  },
  {
   "cell_type": "code",
   "execution_count": 34,
   "metadata": {},
   "outputs": [
    {
     "data": {
      "text/plain": [
       "DecisionTreeClassifier(class_weight=None, criterion='gini', max_depth=None,\n",
       "                       max_features=None, max_leaf_nodes=None,\n",
       "                       min_impurity_decrease=0.0, min_impurity_split=None,\n",
       "                       min_samples_leaf=1, min_samples_split=2,\n",
       "                       min_weight_fraction_leaf=0.0, presort=False,\n",
       "                       random_state=None, splitter='best')"
      ]
     },
     "execution_count": 34,
     "metadata": {},
     "output_type": "execute_result"
    }
   ],
   "source": [
    "dt.fit(X_train, y_train)"
   ]
  },
  {
   "cell_type": "code",
   "execution_count": 35,
   "metadata": {},
   "outputs": [],
   "source": [
    "y_train_pred = dt.predict(X_train)"
   ]
  },
  {
   "cell_type": "code",
   "execution_count": 36,
   "metadata": {},
   "outputs": [
    {
     "data": {
      "text/plain": [
       "<AxesSubplot:title={'center':'Confusion Matrix'}, xlabel='Predicted label', ylabel='True label'>"
      ]
     },
     "execution_count": 36,
     "metadata": {},
     "output_type": "execute_result"
    },
    {
     "data": {
      "image/png": "[encoded data removed]",
      "text/plain": [
       "<Figure size 432x288 with 2 Axes>"
      ]
     },
     "metadata": {
      "needs_background": "light"
     },
     "output_type": "display_data"
    }
   ],
   "source": [
    "plot_confusion_matrix(y_train, y_train_pred, normalize=False)"
   ]
  },
  {
   "cell_type": "code",
   "execution_count": 37,
   "metadata": {},
   "outputs": [],
   "source": [
    "# Perfect Matrix? Let's look at the test set...\n",
    "\n",
    "y_test_pred = dt.predict(X_test)"
   ]
  },
  {
   "cell_type": "code",
   "execution_count": 38,
   "metadata": {},
   "outputs": [
    {
     "data": {
      "text/plain": [
       "<AxesSubplot:title={'center':'Confusion Matrix'}, xlabel='Predicted label', ylabel='True label'>"
      ]
     },
     "execution_count": 38,
     "metadata": {},
     "output_type": "execute_result"
    },
    {
     "data": {
      "image/png": "[encoded data removed]",
      "text/plain": [
       "<Figure size 432x288 with 2 Axes>"
      ]
     },
     "metadata": {
      "needs_background": "light"
     },
     "output_type": "display_data"
    }
   ],
   "source": [
    "plot_confusion_matrix(y_test, y_test_pred, normalize=False)"
   ]
  },
  {
   "cell_type": "code",
   "execution_count": 39,
   "metadata": {},
   "outputs": [
    {
     "data": {
      "text/plain": [
       "<AxesSubplot:title={'center':'Normalized Confusion Matrix'}, xlabel='Predicted label', ylabel='True label'>"
      ]
     },
     "execution_count": 39,
     "metadata": {},
     "output_type": "execute_result"
    },
    {
     "data": {
      "image/png": "[encoded data removed]",
      "text/plain": [
       "<Figure size 432x288 with 2 Axes>"
      ]
     },
     "metadata": {
      "needs_background": "light"
     },
     "output_type": "display_data"
    }
   ],
   "source": [
    "plot_confusion_matrix(y_test, y_test_pred, normalize=True)"
   ]
  },
  {
   "cell_type": "code",
   "execution_count": 40,
   "metadata": {},
   "outputs": [
    {
     "name": "stdout",
     "output_type": "stream",
     "text": [
      "              precision    recall  f1-score   support\n",
      "\n",
      "         0.0       1.00      1.00      1.00    595463\n",
      "         1.0       1.00      1.00      1.00    137988\n",
      "\n",
      "    accuracy                           1.00    733451\n",
      "   macro avg       1.00      1.00      1.00    733451\n",
      "weighted avg       1.00      1.00      1.00    733451\n",
      "\n"
     ]
    }
   ],
   "source": [
    "print(classification_report(y_train, y_train_pred))"
   ]
  },
  {
   "cell_type": "code",
   "execution_count": 41,
   "metadata": {},
   "outputs": [
    {
     "name": "stdout",
     "output_type": "stream",
     "text": [
      "              precision    recall  f1-score   support\n",
      "\n",
      "         0.0       0.79      0.81      0.80    224852\n",
      "         1.0       0.31      0.28      0.29     68242\n",
      "\n",
      "    accuracy                           0.69    293094\n",
      "   macro avg       0.55      0.55      0.55    293094\n",
      "weighted avg       0.68      0.69      0.68    293094\n",
      "\n"
     ]
    }
   ],
   "source": [
    "print(classification_report(y_test, y_test_pred))"
   ]
  },
  {
   "cell_type": "code",
   "execution_count": 42,
   "metadata": {},
   "outputs": [
    {
     "data": {
      "text/plain": [
       "58"
      ]
     },
     "execution_count": 42,
     "metadata": {},
     "output_type": "execute_result"
    }
   ],
   "source": [
    "dt.tree_.max_depth"
   ]
  },
  {
   "cell_type": "code",
   "execution_count": 43,
   "metadata": {},
   "outputs": [],
   "source": [
    "CM = confusion_matrix(y_test, y_test_pred)"
   ]
  },
  {
   "cell_type": "code",
   "execution_count": 44,
   "metadata": {},
   "outputs": [
    {
     "data": {
      "text/plain": [
       "array([[182595,  42257],\n",
       "       [ 49232,  19010]])"
      ]
     },
     "execution_count": 44,
     "metadata": {},
     "output_type": "execute_result"
    }
   ],
   "source": [
    "CM"
   ]
  },
  {
   "cell_type": "code",
   "execution_count": 45,
   "metadata": {},
   "outputs": [],
   "source": [
    "TP = CM[1][1]\n",
    "FP = CM[0][1]\n",
    "\n",
    "FN = CM[1][0]\n",
    "TN = CM[0][0]\n",
    "\n",
    "P = TP + FN\n",
    "N = TN + FP"
   ]
  },
  {
   "cell_type": "code",
   "execution_count": 46,
   "metadata": {},
   "outputs": [],
   "source": [
    "TPR = TP/P"
   ]
  },
  {
   "cell_type": "code",
   "execution_count": 47,
   "metadata": {},
   "outputs": [],
   "source": [
    "FPR = FP/N"
   ]
  },
  {
   "cell_type": "code",
   "execution_count": 48,
   "metadata": {},
   "outputs": [
    {
     "data": {
      "text/plain": [
       "0.27856745112980275"
      ]
     },
     "execution_count": 48,
     "metadata": {},
     "output_type": "execute_result"
    }
   ],
   "source": [
    "TPR"
   ]
  },
  {
   "cell_type": "code",
   "execution_count": 49,
   "metadata": {},
   "outputs": [
    {
     "data": {
      "text/plain": [
       "0.18793250671552844"
      ]
     },
     "execution_count": 49,
     "metadata": {},
     "output_type": "execute_result"
    }
   ],
   "source": [
    "FPR"
   ]
  },
  {
   "cell_type": "code",
   "execution_count": 50,
   "metadata": {},
   "outputs": [
    {
     "data": {
      "text/plain": [
       "1.4822739077889677"
      ]
     },
     "execution_count": 50,
     "metadata": {},
     "output_type": "execute_result"
    }
   ],
   "source": [
    "TPR/FPR"
   ]
  },
  {
   "cell_type": "code",
   "execution_count": 51,
   "metadata": {},
   "outputs": [],
   "source": [
    "# Compute ROC curve and ROC area for each class\n",
    "fpr, tpr, _ = roc_curve(y_test, y_test_pred)\n",
    "roc_auc = auc(fpr, tpr)"
   ]
  },
  {
   "cell_type": "code",
   "execution_count": 52,
   "metadata": {},
   "outputs": [
    {
     "data": {
      "image/png": "[encoded data removed]",
      "text/plain": [
       "<Figure size 432x288 with 1 Axes>"
      ]
     },
     "metadata": {
      "needs_background": "light"
     },
     "output_type": "display_data"
    }
   ],
   "source": [
    "plt.figure()\n",
    "lw = 2\n",
    "plt.plot(fpr, tpr, color='darkorange',\n",
    "         lw=lw, label='ROC curve (area = %0.2f)' % roc_auc, marker='o', markersize='15')\n",
    "plt.plot([0, 1], [0, 1], color='navy', lw=lw, linestyle='-.')\n",
    "plt.xlim([0.0, 1.0])\n",
    "plt.ylim([0.0, 1.05])\n",
    "plt.xlabel('False Positive Rate')\n",
    "plt.ylabel('True Positive Rate')\n",
    "plt.title('Receiver operating characteristic example')\n",
    "plt.legend(loc=\"lower right\")\n",
    "plt.show()"
   ]
  },
  {
   "cell_type": "markdown",
   "metadata": {},
   "source": [
    "For a model that picks the labels randomly, we expect a model that will pick 'positive' regardless of whether a datapoint is actually positive or not.\n",
    "Thus, the baseline is TPR = FPR.\n",
    "\n",
    "The current model is doing *worse* than the baseline.\n",
    "\n"
   ]
  },
  {
   "cell_type": "markdown",
   "metadata": {},
   "source": [
    "Problems:\n",
    "\n",
    "* Data imbalance: the model does better for class 0\n",
    "* Overfitting: clearly we can't let the tree grow arbitrarily large\n",
    "* We don't have a clear evaluation metric yet (though confusion matrices, recall and precision are all good indicators)"
   ]
  },
  {
   "cell_type": "markdown",
   "metadata": {},
   "source": [
    "Dealing with the class imbalance. Here are some strategies:\n",
    "* Assigning weights to the labels: penalize the model more for getting wrong answers for class 1\n",
    "* Oversampling: synthetically create more examples of the rare class\n",
    "* Undersampling: reduce the number of examples coming from the most common class\n",
    "\n",
    "The first strategy can be implemented with the decision tree model by setting one of the parameters.\n",
    "For the sake of time, this is the strategy we will pursue here."
   ]
  },
  {
   "cell_type": "markdown",
   "metadata": {},
   "source": [
    "With regards to the overfitting problem, we need a way to choose the hyperparameters of the model."
   ]
  },
  {
   "cell_type": "code",
   "execution_count": 53,
   "metadata": {},
   "outputs": [],
   "source": [
    "param_grid = {\n",
    "    'max_depth': [5, 10, 15, 20],\n",
    "    'min_samples_split': [2, 20],\n",
    "    'min_samples_leaf': [1, 10, 100, 1000, 2000, 10000],\n",
    "    'random_state': [42],\n",
    "    'class_weight': [None, 'balanced']\n",
    "    }"
   ]
  },
  {
   "cell_type": "code",
   "execution_count": 54,
   "metadata": {},
   "outputs": [],
   "source": [
    "clf = GridSearchCV(estimator=DecisionTreeClassifier(),\n",
    "             param_grid=param_grid,\n",
    "             scoring='f1',\n",
    "             n_jobs=-1,\n",
    "             verbose=2)"
   ]
  },
  {
   "cell_type": "code",
   "execution_count": 55,
   "metadata": {},
   "outputs": [
    {
     "name": "stdout",
     "output_type": "stream",
     "text": [
      "Fitting 3 folds for each of 96 candidates, totalling 288 fits\n"
     ]
    },
    {
     "name": "stderr",
     "output_type": "stream",
     "text": [
      "[Parallel(n_jobs=-1)]: Using backend LokyBackend with 24 concurrent workers.\n",
      "[Parallel(n_jobs=-1)]: Done 114 tasks      | elapsed:   54.9s\n",
      "[Parallel(n_jobs=-1)]: Done 288 out of 288 | elapsed:  2.2min finished\n"
     ]
    },
    {
     "data": {
      "text/plain": [
       "GridSearchCV(cv='warn', error_score='raise-deprecating',\n",
       "             estimator=DecisionTreeClassifier(class_weight=None,\n",
       "                                              criterion='gini', max_depth=None,\n",
       "                                              max_features=None,\n",
       "                                              max_leaf_nodes=None,\n",
       "                                              min_impurity_decrease=0.0,\n",
       "                                              min_impurity_split=None,\n",
       "                                              min_samples_leaf=1,\n",
       "                                              min_samples_split=2,\n",
       "                                              min_weight_fraction_leaf=0.0,\n",
       "                                              presort=False, random_state=None,\n",
       "                                              splitter='best'),\n",
       "             iid='warn', n_jobs=-1,\n",
       "             param_grid={'class_weight': [None, 'balanced'],\n",
       "                         'max_depth': [5, 10, 15, 20],\n",
       "                         'min_samples_leaf': [1, 10, 100, 1000, 2000, 10000],\n",
       "                         'min_samples_split': [2, 20], 'random_state': [42]},\n",
       "             pre_dispatch='2*n_jobs', refit=True, return_train_score=False,\n",
       "             scoring='f1', verbose=2)"
      ]
     },
     "execution_count": 55,
     "metadata": {},
     "output_type": "execute_result"
    }
   ],
   "source": [
    "clf.fit(X_train, y_train)"
   ]
  },
  {
   "cell_type": "code",
   "execution_count": 56,
   "metadata": {},
   "outputs": [
    {
     "data": {
      "text/plain": [
       "{'class_weight': 'balanced',\n",
       " 'max_depth': 10,\n",
       " 'min_samples_leaf': 2000,\n",
       " 'min_samples_split': 2,\n",
       " 'random_state': 42}"
      ]
     },
     "execution_count": 56,
     "metadata": {},
     "output_type": "execute_result"
    }
   ],
   "source": [
    "clf.best_params_"
   ]
  },
  {
   "cell_type": "code",
   "execution_count": 57,
   "metadata": {},
   "outputs": [],
   "source": [
    "# Perfect Matrix? Let's look at the test set...\n",
    "\n",
    "y_test_pred2 = clf.predict(X_test)"
   ]
  },
  {
   "cell_type": "code",
   "execution_count": 58,
   "metadata": {},
   "outputs": [
    {
     "data": {
      "text/plain": [
       "<AxesSubplot:title={'center':'Normalized Confusion Matrix'}, xlabel='Predicted label', ylabel='True label'>"
      ]
     },
     "execution_count": 58,
     "metadata": {},
     "output_type": "execute_result"
    },
    {
     "data": {
      "image/png": "[encoded data removed]",
      "text/plain": [
       "<Figure size 432x288 with 2 Axes>"
      ]
     },
     "metadata": {
      "needs_background": "light"
     },
     "output_type": "display_data"
    }
   ],
   "source": [
    "plot_confusion_matrix(y_test, y_test_pred2, normalize=True)"
   ]
  },
  {
   "cell_type": "code",
   "execution_count": 59,
   "metadata": {},
   "outputs": [
    {
     "name": "stdout",
     "output_type": "stream",
     "text": [
      "              precision    recall  f1-score   support\n",
      "\n",
      "         0.0       0.85      0.68      0.75    224852\n",
      "         1.0       0.36      0.60      0.45     68242\n",
      "\n",
      "    accuracy                           0.66    293094\n",
      "   macro avg       0.61      0.64      0.60    293094\n",
      "weighted avg       0.74      0.66      0.68    293094\n",
      "\n"
     ]
    }
   ],
   "source": [
    "print(classification_report(y_test, y_test_pred2))"
   ]
  },
  {
   "cell_type": "code",
   "execution_count": 60,
   "metadata": {},
   "outputs": [],
   "source": [
    "CM2 = confusion_matrix(y_test, y_test_pred2)"
   ]
  },
  {
   "cell_type": "code",
   "execution_count": 61,
   "metadata": {},
   "outputs": [],
   "source": [
    "TPR2 = CM2[1][1]/(CM2[1][0] + CM2[1][1] )\n",
    "FPR2 = CM2[0][1]/(CM2[0][0] + CM2[0][1] )"
   ]
  },
  {
   "cell_type": "code",
   "execution_count": 62,
   "metadata": {},
   "outputs": [
    {
     "data": {
      "text/plain": [
       "1.882016682699884"
      ]
     },
     "execution_count": 62,
     "metadata": {},
     "output_type": "execute_result"
    }
   ],
   "source": [
    "TPR2/FPR2"
   ]
  },
  {
   "cell_type": "code",
   "execution_count": 63,
   "metadata": {},
   "outputs": [],
   "source": [
    "# Compute ROC curve and ROC area for each class\n",
    "fpr2, tpr2, _ = roc_curve(y_test, y_test_pred2)\n",
    "roc_auc2 = auc(fpr2, tpr2)"
   ]
  },
  {
   "cell_type": "code",
   "execution_count": 64,
   "metadata": {},
   "outputs": [
    {
     "data": {
      "image/png": "[encoded data removed]",
      "text/plain": [
       "<Figure size 432x288 with 1 Axes>"
      ]
     },
     "metadata": {
      "needs_background": "light"
     },
     "output_type": "display_data"
    }
   ],
   "source": [
    "plt.figure()\n",
    "lw = 2\n",
    "plt.plot(fpr, tpr, color='darkorange',\n",
    "         lw=lw, label='ROC curve (area = %0.2f)' % roc_auc, marker='o', markersize='15')\n",
    "plt.plot(fpr2, tpr2, color='blue',\n",
    "         lw=lw, label='ROC curve (area = %0.2f)' % roc_auc2, marker='o', markersize='15')\n",
    "plt.plot([0, 1], [0, 1], color='navy', lw=lw, linestyle='-.')\n",
    "plt.xlim([0.0, 1.0])\n",
    "plt.ylim([0.0, 1.05])\n",
    "plt.xlabel('False Positive Rate')\n",
    "plt.ylabel('True Positive Rate')\n",
    "plt.title('Receiver operating characteristic example')\n",
    "plt.legend(loc=\"lower right\")\n",
    "plt.show()"
   ]
  },
  {
   "cell_type": "code",
   "execution_count": 65,
   "metadata": {},
   "outputs": [
    {
     "data": {
      "text/plain": [
       "1.4822739077889677"
      ]
     },
     "execution_count": 65,
     "metadata": {},
     "output_type": "execute_result"
    }
   ],
   "source": [
    "TPR/FPR"
   ]
  },
  {
   "cell_type": "code",
   "execution_count": 66,
   "metadata": {},
   "outputs": [
    {
     "data": {
      "text/plain": [
       "1.882016682699884"
      ]
     },
     "execution_count": 66,
     "metadata": {},
     "output_type": "execute_result"
    }
   ],
   "source": [
    "TPR2/FPR2"
   ]
  },
  {
   "cell_type": "markdown",
   "metadata": {},
   "source": [
    "# Feature importance"
   ]
  },
  {
   "cell_type": "code",
   "execution_count": 67,
   "metadata": {},
   "outputs": [],
   "source": [
    "feature_importance = pd.DataFrame(zip(X_train.columns, clf.best_estimator_.feature_importances_), columns=['feature', 'importance'])"
   ]
  },
  {
   "cell_type": "code",
   "execution_count": 68,
   "metadata": {},
   "outputs": [],
   "source": [
    "feature_importance = feature_importance.sort_values(by=['importance'], ascending=False)\n",
    "feature_importance.index = feature_importance['feature']"
   ]
  },
  {
   "cell_type": "code",
   "execution_count": 69,
   "metadata": {},
   "outputs": [
    {
     "data": {
      "text/html": [
       "<div>\n",
       "<style scoped>\n",
       "    .dataframe tbody tr th:only-of-type {\n",
       "        vertical-align: middle;\n",
       "    }\n",
       "\n",
       "    .dataframe tbody tr th {\n",
       "        vertical-align: top;\n",
       "    }\n",
       "\n",
       "    .dataframe thead th {\n",
       "        text-align: right;\n",
       "    }\n",
       "</style>\n",
       "<table border=\"1\" class=\"dataframe\">\n",
       "  <thead>\n",
       "    <tr style=\"text-align: right;\">\n",
       "      <th></th>\n",
       "      <th>feature</th>\n",
       "      <th>importance</th>\n",
       "    </tr>\n",
       "    <tr>\n",
       "      <th>feature</th>\n",
       "      <th></th>\n",
       "      <th></th>\n",
       "    </tr>\n",
       "  </thead>\n",
       "  <tbody>\n",
       "    <tr>\n",
       "      <th>sub_grade</th>\n",
       "      <td>sub_grade</td>\n",
       "      <td>0.743009</td>\n",
       "    </tr>\n",
       "    <tr>\n",
       "      <th>term</th>\n",
       "      <td>term</td>\n",
       "      <td>0.124962</td>\n",
       "    </tr>\n",
       "    <tr>\n",
       "      <th>dti</th>\n",
       "      <td>dti</td>\n",
       "      <td>0.033300</td>\n",
       "    </tr>\n",
       "    <tr>\n",
       "      <th>mort_acc</th>\n",
       "      <td>mort_acc</td>\n",
       "      <td>0.018974</td>\n",
       "    </tr>\n",
       "    <tr>\n",
       "      <th>home_ownership</th>\n",
       "      <td>home_ownership</td>\n",
       "      <td>0.017372</td>\n",
       "    </tr>\n",
       "  </tbody>\n",
       "</table>\n",
       "</div>"
      ],
      "text/plain": [
       "                       feature  importance\n",
       "feature                                   \n",
       "sub_grade            sub_grade    0.743009\n",
       "term                      term    0.124962\n",
       "dti                        dti    0.033300\n",
       "mort_acc              mort_acc    0.018974\n",
       "home_ownership  home_ownership    0.017372"
      ]
     },
     "execution_count": 69,
     "metadata": {},
     "output_type": "execute_result"
    }
   ],
   "source": [
    "feature_importance.head()"
   ]
  },
  {
   "cell_type": "code",
   "execution_count": 70,
   "metadata": {},
   "outputs": [
    {
     "data": {
      "text/plain": [
       "<AxesSubplot:xlabel='feature'>"
      ]
     },
     "execution_count": 70,
     "metadata": {},
     "output_type": "execute_result"
    },
    {
     "data": {
      "image/png": "[encoded data removed]",
      "text/plain": [
       "<Figure size 432x288 with 1 Axes>"
      ]
     },
     "metadata": {
      "needs_background": "light"
     },
     "output_type": "display_data"
    }
   ],
   "source": [
    "feature_importance['importance'].plot(kind='bar')"
   ]
  },
  {
   "cell_type": "markdown",
   "metadata": {},
   "source": [
    "At this point we may want to consider training the model only with the most important features to see what happens."
   ]
  },
  {
   "cell_type": "code",
   "execution_count": 71,
   "metadata": {},
   "outputs": [],
   "source": [
    "important_cols = ['term', 'dti', 'mort_acc', 'home_ownership', 'int_rate']"
   ]
  },
  {
   "cell_type": "code",
   "execution_count": 72,
   "metadata": {},
   "outputs": [],
   "source": [
    "simpler_dt = DecisionTreeClassifier(\n",
    " class_weight='balanced',\n",
    " max_depth=10,\n",
    " min_samples_leaf=1000,\n",
    " min_samples_split=2,\n",
    " min_impurity_decrease=0.005,\n",
    " random_state=42\n",
    ")"
   ]
  },
  {
   "cell_type": "code",
   "execution_count": 73,
   "metadata": {},
   "outputs": [
    {
     "data": {
      "text/plain": [
       "DecisionTreeClassifier(class_weight='balanced', criterion='gini', max_depth=10,\n",
       "                       max_features=None, max_leaf_nodes=None,\n",
       "                       min_impurity_decrease=0.005, min_impurity_split=None,\n",
       "                       min_samples_leaf=1000, min_samples_split=2,\n",
       "                       min_weight_fraction_leaf=0.0, presort=False,\n",
       "                       random_state=42, splitter='best')"
      ]
     },
     "execution_count": 73,
     "metadata": {},
     "output_type": "execute_result"
    }
   ],
   "source": [
    "simpler_dt.fit(X_train[important_cols], y_train)"
   ]
  },
  {
   "cell_type": "code",
   "execution_count": 74,
   "metadata": {},
   "outputs": [
    {
     "name": "stdout",
     "output_type": "stream",
     "text": [
      "              precision    recall  f1-score   support\n",
      "\n",
      "         0.0       0.89      0.58      0.70    595463\n",
      "         1.0       0.28      0.70      0.40    137988\n",
      "\n",
      "    accuracy                           0.60    733451\n",
      "   macro avg       0.58      0.64      0.55    733451\n",
      "weighted avg       0.78      0.60      0.64    733451\n",
      "\n"
     ]
    }
   ],
   "source": [
    "y_train_pred3 = simpler_dt.predict(X_train[important_cols])\n",
    "\n",
    "print(classification_report(y_train, y_train_pred3))"
   ]
  },
  {
   "cell_type": "code",
   "execution_count": 75,
   "metadata": {},
   "outputs": [],
   "source": [
    "y_test_pred3 = simpler_dt.predict(X_test[important_cols])"
   ]
  },
  {
   "cell_type": "code",
   "execution_count": 76,
   "metadata": {},
   "outputs": [
    {
     "name": "stdout",
     "output_type": "stream",
     "text": [
      "              precision    recall  f1-score   support\n",
      "\n",
      "         0.0       0.85      0.68      0.75    224852\n",
      "         1.0       0.36      0.60      0.45     68242\n",
      "\n",
      "    accuracy                           0.66    293094\n",
      "   macro avg       0.61      0.64      0.60    293094\n",
      "weighted avg       0.74      0.66      0.68    293094\n",
      "\n"
     ]
    }
   ],
   "source": [
    "print(classification_report(y_test, y_test_pred2))"
   ]
  },
  {
   "cell_type": "code",
   "execution_count": 77,
   "metadata": {},
   "outputs": [
    {
     "name": "stdout",
     "output_type": "stream",
     "text": [
      "              precision    recall  f1-score   support\n",
      "\n",
      "         0.0       0.85      0.64      0.73    224852\n",
      "         1.0       0.35      0.64      0.45     68242\n",
      "\n",
      "    accuracy                           0.64    293094\n",
      "   macro avg       0.60      0.64      0.59    293094\n",
      "weighted avg       0.73      0.64      0.66    293094\n",
      "\n"
     ]
    }
   ],
   "source": [
    "print(classification_report(y_test, y_test_pred3))"
   ]
  },
  {
   "cell_type": "code",
   "execution_count": 78,
   "metadata": {},
   "outputs": [],
   "source": [
    "fpr3, tpr3, _ = roc_curve(y_test, y_test_pred3)\n",
    "roc_auc3 = auc(fpr3, tpr3)"
   ]
  },
  {
   "cell_type": "code",
   "execution_count": 79,
   "metadata": {},
   "outputs": [
    {
     "data": {
      "image/png": "[encoded data removed]",
      "text/plain": [
       "<Figure size 432x288 with 1 Axes>"
      ]
     },
     "metadata": {
      "needs_background": "light"
     },
     "output_type": "display_data"
    }
   ],
   "source": [
    "plt.figure()\n",
    "lw = 2\n",
    "plt.plot(fpr, tpr, color='darkorange',\n",
    "         lw=lw, label='ROC curve (area = %0.2f)' % roc_auc, marker='o', markersize='15')\n",
    "plt.plot(fpr2, tpr2, color='blue',\n",
    "         lw=lw, label='ROC curve (area = %0.2f)' % roc_auc2, marker='o', markersize='15')\n",
    "plt.plot(fpr3, tpr3, color='darkblue',\n",
    "         lw=lw, label='ROC curve (area = %0.2f)' % roc_auc3, marker='o', markersize='15')\n",
    "plt.plot([0, 1], [0, 1], color='navy', lw=lw, linestyle='-.')\n",
    "plt.xlim([0.0, 1.0])\n",
    "plt.ylim([0.0, 1.05])\n",
    "plt.xlabel('False Positive Rate')\n",
    "plt.ylabel('True Positive Rate')\n",
    "plt.title('Receiver operating characteristic example')\n",
    "plt.legend(loc=\"lower right\")\n",
    "plt.show()"
   ]
  },
  {
   "cell_type": "code",
   "execution_count": 80,
   "metadata": {},
   "outputs": [
    {
     "data": {
      "image/png": "[encoded data removed]",
      "text/plain": [
       "<Figure size 1080x720 with 1 Axes>"
      ]
     },
     "metadata": {
      "needs_background": "light"
     },
     "output_type": "display_data"
    }
   ],
   "source": [
    "fig = plt.figure(figsize=(15,10))\n",
    "_ = tree.plot_tree(\n",
    "    simpler_dt,\n",
    "    feature_names=important_cols,\n",
    "    class_names=['0', '1'],\n",
    "    filled=True\n",
    ")"
   ]
  },
  {
   "cell_type": "code",
   "execution_count": null,
   "metadata": {},
   "outputs": [],
   "source": []
  },
  {
   "cell_type": "markdown",
   "metadata": {},
   "source": [
    "# Does log matter?"
   ]
  },
  {
   "cell_type": "code",
   "execution_count": 81,
   "metadata": {},
   "outputs": [
    {
     "name": "stdout",
     "output_type": "stream",
     "text": [
      "addr_state\n",
      "application_type\n",
      "grade\n",
      "home_ownership\n",
      "initial_list_status\n",
      "purpose\n",
      "sub_grade\n",
      "term\n",
      "title\n",
      "verification_status\n"
     ]
    }
   ],
   "source": [
    "train_df3 = feature_engineering(train_df, num_cols, cat_cols, log_cols=None, is_train=True)"
   ]
  },
  {
   "cell_type": "code",
   "execution_count": 82,
   "metadata": {},
   "outputs": [
    {
     "name": "stdout",
     "output_type": "stream",
     "text": [
      "addr_state\n",
      "application_type\n",
      "grade\n",
      "home_ownership\n",
      "initial_list_status\n",
      "purpose\n",
      "sub_grade\n",
      "term\n",
      "title\n",
      "verification_status\n"
     ]
    }
   ],
   "source": [
    "test_df3 = feature_engineering(test_df, num_cols, cat_cols, log_cols=None, is_train=False)"
   ]
  },
  {
   "cell_type": "code",
   "execution_count": 83,
   "metadata": {},
   "outputs": [],
   "source": [
    "X_train_nolog = train_df3[cols]\n",
    "y_train_nolog = train_df3['target']\n",
    "X_test_nolog = test_df3[cols]\n",
    "y_test_nolog = test_df3['target']"
   ]
  },
  {
   "cell_type": "code",
   "execution_count": 84,
   "metadata": {},
   "outputs": [],
   "source": [
    "simpler_dt_nolog = DecisionTreeClassifier(\n",
    " class_weight='balanced',\n",
    " max_depth=2,\n",
    " min_samples_leaf=1000,\n",
    " min_samples_split=2,\n",
    " min_impurity_decrease=0.00,\n",
    " random_state=42\n",
    ")"
   ]
  },
  {
   "cell_type": "code",
   "execution_count": 85,
   "metadata": {},
   "outputs": [
    {
     "data": {
      "text/plain": [
       "DecisionTreeClassifier(class_weight='balanced', criterion='gini', max_depth=2,\n",
       "                       max_features=None, max_leaf_nodes=None,\n",
       "                       min_impurity_decrease=0.0, min_impurity_split=None,\n",
       "                       min_samples_leaf=1000, min_samples_split=2,\n",
       "                       min_weight_fraction_leaf=0.0, presort=False,\n",
       "                       random_state=42, splitter='best')"
      ]
     },
     "execution_count": 85,
     "metadata": {},
     "output_type": "execute_result"
    }
   ],
   "source": [
    "simpler_dt_nolog.fit(X_train_nolog[cols], y_train_nolog)"
   ]
  },
  {
   "cell_type": "code",
   "execution_count": 86,
   "metadata": {},
   "outputs": [],
   "source": [
    "y_test_pred_nolog = simpler_dt_nolog.predict(X_test_nolog[cols])"
   ]
  },
  {
   "cell_type": "code",
   "execution_count": 87,
   "metadata": {},
   "outputs": [
    {
     "name": "stdout",
     "output_type": "stream",
     "text": [
      "              precision    recall  f1-score   support\n",
      "\n",
      "         0.0       0.86      0.61      0.71    224852\n",
      "         1.0       0.34      0.67      0.45     68242\n",
      "\n",
      "    accuracy                           0.62    293094\n",
      "   macro avg       0.60      0.64      0.58    293094\n",
      "weighted avg       0.74      0.62      0.65    293094\n",
      "\n"
     ]
    }
   ],
   "source": [
    "print(classification_report(y_test, y_test_pred_nolog))"
   ]
  },
  {
   "cell_type": "code",
   "execution_count": 88,
   "metadata": {},
   "outputs": [],
   "source": [
    "fpr_nolog, tpr_nolog, _ = roc_curve(y_test, y_test_pred_nolog)\n",
    "roc_auc_nolog = auc(fpr_nolog, tpr_nolog)"
   ]
  },
  {
   "cell_type": "code",
   "execution_count": 89,
   "metadata": {},
   "outputs": [
    {
     "data": {
      "image/png": "[encoded data removed]",
      "text/plain": [
       "<Figure size 432x288 with 1 Axes>"
      ]
     },
     "metadata": {
      "needs_background": "light"
     },
     "output_type": "display_data"
    }
   ],
   "source": [
    "plt.figure()\n",
    "lw = 2\n",
    "plt.plot(fpr, tpr, color='darkorange',\n",
    "         lw=lw, label='ROC curve (area = %0.2f)' % roc_auc, marker='o', markersize='15')\n",
    "plt.plot(fpr2, tpr2, color='blue',\n",
    "         lw=lw, label='ROC curve (area = %0.2f)' % roc_auc2, marker='o', markersize='15')\n",
    "plt.plot(fpr3, tpr3, color='darkblue',\n",
    "         lw=lw, label='ROC curve (area = %0.2f)' % roc_auc3, marker='o', markersize='15')\n",
    "plt.plot([0, 1], [0, 1], color='navy', lw=lw, linestyle='-.')\n",
    "plt.plot(fpr_nolog, tpr_nolog, color='purple',\n",
    "         lw=lw, label='ROC curve (area = %0.2f)' % roc_auc_nolog, marker='o', markersize='15')\n",
    "plt.plot([0, 1], [0, 1], color='navy', lw=lw, linestyle='-.')\n",
    "plt.xlim([0.0, 1.0])\n",
    "plt.ylim([0.0, 1.05])\n",
    "plt.xlabel('False Positive Rate')\n",
    "plt.ylabel('True Positive Rate')\n",
    "plt.title('Receiver operating characteristic example')\n",
    "plt.legend(loc=\"lower right\")\n",
    "plt.show()"
   ]
  },
  {
   "cell_type": "code",
   "execution_count": null,
   "metadata": {},
   "outputs": [],
   "source": []
  }
 ],
 "metadata": {
  "kernelspec": {
   "display_name": "Python 3",
   "language": "python",
   "name": "python3"
  },
  "language_info": {
   "codemirror_mode": {
    "name": "ipython",
    "version": 3
   },
   "file_extension": ".py",
   "mimetype": "text/x-python",
   "name": "python",
   "nbconvert_exporter": "python",
   "pygments_lexer": "ipython3",
   "version": "3.7.10"
  }
 },
 "nbformat": 4,
 "nbformat_minor": 2
}
