{
 "cells": [
  {
   "cell_type": "markdown",
   "id": "centered-health",
   "metadata": {},
   "source": [
    "# Random Forest and Gradient Boosing Models"
   ]
  },
  {
   "cell_type": "code",
   "execution_count": 8,
   "id": "handled-office",
   "metadata": {},
   "outputs": [],
   "source": [
    "import pathlib\n",
    "\n",
    "import feather\n",
    "import pandas as pd\n",
    "import numpy as np\n",
    "from sklearn.ensemble import RandomForestClassifier\n",
    "from sklearn.metrics import classification_report, accuracy_score, confusion_matrix"
   ]
  },
  {
   "cell_type": "code",
   "execution_count": 2,
   "id": "monetary-soundtrack",
   "metadata": {},
   "outputs": [],
   "source": [
    "DATA_PATH = pathlib.Path('./data')\n",
    "RESULTS_PATH = pathlib.Path('./results')"
   ]
  },
  {
   "cell_type": "code",
   "execution_count": 3,
   "id": "verbal-suicide",
   "metadata": {},
   "outputs": [],
   "source": [
    "X_train = feather.read_dataframe(DATA_PATH / 'X_train')\n",
    "y_train = feather.read_dataframe(DATA_PATH / 'y_train')\n",
    "\n",
    "X_test = feather.read_dataframe(DATA_PATH / 'X_test')\n",
    "y_test = feather.read_dataframe(DATA_PATH / 'y_test')"
   ]
  },
  {
   "cell_type": "code",
   "execution_count": 7,
   "id": "polished-sheffield",
   "metadata": {},
   "outputs": [
    {
     "data": {
      "text/plain": [
       "((733451, 23), (733451, 1), (293094, 23), (293094, 1))"
      ]
     },
     "execution_count": 7,
     "metadata": {},
     "output_type": "execute_result"
    }
   ],
   "source": [
    "X_train.shape, y_train.shape, X_test.shape, y_test.shape"
   ]
  },
  {
   "cell_type": "markdown",
   "id": "statewide-greensboro",
   "metadata": {},
   "source": [
    "# Outline\n",
    "\n",
    "- What is a random forest model? \n",
    "- How does it work? \n",
    "- Why does it work well?\n",
    "- How to use it in scikit-learn?\n",
    "- Train and compare on holdout set\n",
    "\n",
    "## Extra (Not part of presentation)\n",
    "- What is a gradient boosting model? \n",
    "- How does it work? \n",
    "- Why does it work well?\n",
    "- How to use it in scikit-learn?\n",
    "- Train and compare on holdout set\n"
   ]
  },
  {
   "cell_type": "code",
   "execution_count": 9,
   "id": "bacterial-veteran",
   "metadata": {},
   "outputs": [
    {
     "name": "stderr",
     "output_type": "stream",
     "text": [
      "/home/pspenano/miniconda3/envs/intro-ml-ws/lib/python3.7/site-packages/sklearn/ensemble/forest.py:245: FutureWarning: The default value of n_estimators will change from 10 in version 0.20 to 100 in 0.22.\n",
      "  \"10 in version 0.20 to 100 in 0.22.\", FutureWarning)\n",
      "/home/pspenano/miniconda3/envs/intro-ml-ws/lib/python3.7/site-packages/ipykernel_launcher.py:2: DataConversionWarning: A column-vector y was passed when a 1d array was expected. Please change the shape of y to (n_samples,), for example using ravel().\n",
      "  \n"
     ]
    },
    {
     "data": {
      "text/plain": [
       "RandomForestClassifier(bootstrap=True, class_weight=None, criterion='gini',\n",
       "                       max_depth=2, max_features='auto', max_leaf_nodes=None,\n",
       "                       min_impurity_decrease=0.0, min_impurity_split=None,\n",
       "                       min_samples_leaf=1, min_samples_split=2,\n",
       "                       min_weight_fraction_leaf=0.0, n_estimators=10,\n",
       "                       n_jobs=None, oob_score=False, random_state=0, verbose=0,\n",
       "                       warm_start=False)"
      ]
     },
     "execution_count": 9,
     "metadata": {},
     "output_type": "execute_result"
    }
   ],
   "source": [
    "clf = RandomForestClassifier(max_depth=2, random_state=0)\n",
    "clf.fit(X_train, y_train)"
   ]
  },
  {
   "cell_type": "code",
   "execution_count": null,
   "id": "vanilla-conspiracy",
   "metadata": {},
   "outputs": [],
   "source": []
  }
 ],
 "metadata": {
  "kernelspec": {
   "display_name": "Python 3",
   "language": "python",
   "name": "python3"
  },
  "language_info": {
   "codemirror_mode": {
    "name": "ipython",
    "version": 3
   },
   "file_extension": ".py",
   "mimetype": "text/x-python",
   "name": "python",
   "nbconvert_exporter": "python",
   "pygments_lexer": "ipython3",
   "version": "3.7.10"
  }
 },
 "nbformat": 4,
 "nbformat_minor": 5
}
